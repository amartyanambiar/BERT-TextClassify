{
  "nbformat": 4,
  "nbformat_minor": 0,
  "metadata": {
    "colab": {
      "provenance": [],
      "authorship_tag": "ABX9TyMXpuVHTStgMki9Wz7n/RQG",
      "include_colab_link": true
    },
    "kernelspec": {
      "name": "python3",
      "display_name": "Python 3"
    },
    "language_info": {
      "name": "python"
    }
  },
  "cells": [
    {
      "cell_type": "markdown",
      "metadata": {
        "id": "view-in-github",
        "colab_type": "text"
      },
      "source": [
        "<a href=\"https://colab.research.google.com/github/amartyanambiar/BERT-TextClassify/blob/main/multi_class_text_classficationpynb.ipynb\" target=\"_parent\"><img src=\"https://colab.research.google.com/assets/colab-badge.svg\" alt=\"Open In Colab\"/></a>"
      ]
    },
    {
      "cell_type": "markdown",
      "source": [
        "# Multi-class Text Classfication"
      ],
      "metadata": {
        "id": "2H7vWWQPNtyY"
      }
    },
    {
      "cell_type": "code",
      "source": [],
      "metadata": {
        "id": "z3UuY-Uam4G4"
      },
      "execution_count": null,
      "outputs": []
    },
    {
      "cell_type": "code",
      "source": [],
      "metadata": {
        "id": "vO1gsSxgoCJ-"
      },
      "execution_count": null,
      "outputs": []
    }
  ]
}